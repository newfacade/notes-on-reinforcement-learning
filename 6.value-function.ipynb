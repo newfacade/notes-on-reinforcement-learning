{
 "cells": [
  {
   "cell_type": "markdown",
   "id": "5e62c1d6-fda2-4a13-ad63-2aa24a8b93ae",
   "metadata": {},
   "source": [
    "# Value Function Approximation\n",
    "\n",
    "From table to function."
   ]
  },
  {
   "cell_type": "code",
   "execution_count": null,
   "id": "7b7a7086-7897-4457-822f-f442f3dc2439",
   "metadata": {},
   "outputs": [],
   "source": []
  }
 ],
 "metadata": {
  "kernelspec": {
   "display_name": "Python 3",
   "language": "python",
   "name": "python3"
  },
  "language_info": {
   "codemirror_mode": {
    "name": "ipython",
    "version": 3
   },
   "file_extension": ".py",
   "mimetype": "text/x-python",
   "name": "python",
   "nbconvert_exporter": "python",
   "pygments_lexer": "ipython3",
   "version": "3.8.3"
  }
 },
 "nbformat": 4,
 "nbformat_minor": 5
}
