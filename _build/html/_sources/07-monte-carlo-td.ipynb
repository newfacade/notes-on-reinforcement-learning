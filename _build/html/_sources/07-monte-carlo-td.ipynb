{
 "cells": [
  {
   "cell_type": "markdown",
   "id": "249deb57-557f-4f0c-bf8c-3ac255df60ea",
   "metadata": {},
   "source": [
    "# Monte Carlo vs Temporal Difference Learning\n",
    "\n",
    "```{note}\n",
    "Monte Carlo and Temporal Difference Learning are two different strategies on how to train our value function. On one hand, Monte Carlo uses an entire episode of experience before learning. On the other hand, Temporal Difference uses only a step to learn.<br>\n",
    "We’ll explain both of them using a value-based method example.\n",
    "```"
   ]
  },
  {
   "cell_type": "markdown",
   "id": "28ea0468-3b46-4bc3-af20-f6bca755c88e",
   "metadata": {},
   "source": [
    "## Monte Carlo: learning at the end of the episode\n",
    "\n",
    "Monte Carlo waits until the end of the episode, calculates $G_{t}$ and uses it as a target for updating $V(S_{t})$. So it requires a complete episode of interaction before updating our value function.\n",
    "\n",
    "![](images/monte-carlo1.jpeg)\n",
    "\n",
    "By running more and more episodes, the agent will learn to play better and better."
   ]
  },
  {
   "cell_type": "markdown",
   "id": "54c67967-a2a4-46fd-8736-01d21191a267",
   "metadata": {},
   "source": [
    "## Temporal Difference Learning: learning at each step\n",
    "\n",
    "Temporal Difference, on the other hand, waits for only one step $S_{t+1}$ to form a TD target and update $V(S_{t})$ using the TD target.\n",
    "\n",
    "The idea with TD is to update $V(S_{t})$ at each step. But because we didn’t experience an entire episode, we don’t have $G_{t}$. Instead, we estimate $G_{t}$ by adding $R_{t+1}$ and the discounted value of the next state.\n",
    "\n",
    "This is called bootstrapping. It’s called this because TD bases its update in part on an existing estimate $V(S_{t+1})$ and not a complete sample $G_{t}$.\n",
    "\n",
    "![](images/TD-1.jpeg)"
   ]
  },
  {
   "cell_type": "markdown",
   "id": "f05683bb-41fd-4f2e-bce8-73470a6543fd",
   "metadata": {},
   "source": [
    "## Action-value based methods\n",
    "\n",
    "Action-value based Monte Carlo:\n",
    "\n",
    "$$Q(S_{t}, A_{t}) \\longleftarrow Q(S_{t}, A_{t}) + \\alpha[G_{t} -  Q(S_{t}, A_{t})]$$\n",
    "\n",
    "Action-value based Temporal Difference learning (Sarsa):\n",
    "\n",
    "$$Q(S_{t}, A_{t}) \\longleftarrow Q(S_{t}, A_{t}) + \\alpha[R_{t+1} + \\gamma Q(S_{t+1}, A_{t+1}) -  Q(S_{t}, A_{t})]$$"
   ]
  },
  {
   "cell_type": "code",
   "execution_count": null,
   "id": "d377cdfd-54f0-4c9c-b8ee-2c702e8e7ee1",
   "metadata": {},
   "outputs": [],
   "source": []
  }
 ],
 "metadata": {
  "kernelspec": {
   "display_name": "Python 3 (ipykernel)",
   "language": "python",
   "name": "python3"
  },
  "language_info": {
   "codemirror_mode": {
    "name": "ipython",
    "version": 3
   },
   "file_extension": ".py",
   "mimetype": "text/x-python",
   "name": "python",
   "nbconvert_exporter": "python",
   "pygments_lexer": "ipython3",
   "version": "3.11.5"
  }
 },
 "nbformat": 4,
 "nbformat_minor": 5
}
