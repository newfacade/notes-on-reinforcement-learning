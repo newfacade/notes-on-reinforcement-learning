{
 "cells": [
  {
   "cell_type": "markdown",
   "id": "eff4287a-975b-4040-ae28-822ae1389fa1",
   "metadata": {},
   "source": [
    "# Two main approaches for solving RL problems\n",
    "\n",
    "```{note}\n",
    "Now that we learned the RL framework, how do we solve the RL problem? In other words, how do we build an RL agent that can select the actions that maximize its expected cumulative reward?\n",
    "```"
   ]
  },
  {
   "cell_type": "markdown",
   "id": "77fc6983-9da9-4ce4-9181-1b1cf98782b8",
   "metadata": {},
   "source": [
    "## The Policy $\\pi$: the agent’s brain\n",
    "\n",
    "The Policy $\\pi$ is the brain of our Agent, it’s the function that tells us what action to take given the state we are in. So it defines the agent’s behavior at a given time.\n",
    "\n",
    "![](images/approach1.jpeg)\n",
    "\n",
    "This Policy is the function we want to learn, our goal is to find the optimal policy $\\pi^{\\ast}$, the policy that maximizes expected return when the agent acts according to it. There are two approaches to train our agent to find this optimal policy $\\pi^{\\ast}$:\n",
    "\n",
    "* Directly, by teaching the agent to learn which action to take, given the current state: Policy-Based Methods.\n",
    "\n",
    "* Indirectly, teach the agent to learn which state is more valuable and then take the action that leads to the more valuable states: Value-Based Methods."
   ]
  },
  {
   "cell_type": "markdown",
   "id": "b245d7fb-549e-48fd-be4c-afd9684f51f9",
   "metadata": {},
   "source": [
    "## Policy-Based Methods\n",
    "\n",
    "In Policy-Based methods, we learn a policy function directly.\n",
    "\n",
    "![](images/approach2.jpeg)\n",
    "\n",
    "A policy can be deterministic, in which case it is usually denoted by $\\mu$:\n",
    "\n",
    "$$a_{t} = \\mu(s_{t})$$\n",
    "\n",
    "or it may be stochastic, in which case it is usually denoted by $\\pi$:\n",
    "\n",
    "$$a_{t}\\sim\\pi(\\cdot|s_{t})$$"
   ]
  },
  {
   "cell_type": "markdown",
   "id": "d99face8-37e3-4ba9-b5e4-b49c58123c08",
   "metadata": {},
   "source": [
    "## Value-based methods\n",
    "\n",
    "In value-based methods, instead of learning a policy function, we learn the state-value function or the action-value function.\n",
    "\n",
    "### The state-value function\n",
    "\n",
    "We write the state value function under a policy $\\pi$ like this:\n",
    "\n",
    "$$V_{\\pi}(s) = \\mathbb{E}_{\\pi}[G_{t}|S_{t}=s]$$\n",
    "\n",
    "where $G_{t} = \\sum_{k=0}^{\\infty}\\gamma^{k}R_{t+k+1}$. For each state, the state-value function outputs the expected return if the agent starts at that state and then follows the policy forever afterward. \n",
    "\n",
    "Here we see that our value function defined values for each possible state.\n",
    "\n",
    "![](images/approach3.jpeg)\n",
    "\n",
    "Thanks to our value function, at each step our policy will select the state with the biggest value defined by the value function: -7, then -6, then -5 (and so on) to attain the goal."
   ]
  },
  {
   "cell_type": "markdown",
   "id": "c5776a16-d394-4857-9846-9dd8e2c814d1",
   "metadata": {},
   "source": [
    "### The action-value function\n",
    "\n",
    "In the action-value function, for each state and action pair, the action-value function outputs the expected return if the agent starts in that state, takes that action, and then follows the policy forever after.\n",
    "\n",
    "The value of taking action $a$ in state $s$ under a policy $\\pi$ is:\n",
    "\n",
    "$$Q_{\\pi}(s, a) = \\mathbb{E}_{\\pi}\\left[G_{t}|S_{t}=s,A_{t}=a\\right]$$\n",
    "\n",
    "![](images/approach4.jpeg)\n",
    "\n",
    "Whichever value function we choose (state-value or action-value function), the returned value is the expected return.\n",
    "\n",
    "However, the problem is that to calculate EACH value of a state or a state-action pair, we need to sum all the rewards an agent can get if it starts at that state. This can be a computationally expensive process, and that’s where the Bellman equation comes in to help us."
   ]
  },
  {
   "cell_type": "markdown",
   "id": "34fbd9ee-5c16-4871-972e-92c9b0e4d6a1",
   "metadata": {},
   "source": []
  }
 ],
 "metadata": {
  "kernelspec": {
   "display_name": "Python 3",
   "language": "python",
   "name": "python3"
  },
  "language_info": {
   "codemirror_mode": {
    "name": "ipython",
    "version": 3
   },
   "file_extension": ".py",
   "mimetype": "text/x-python",
   "name": "python",
   "nbconvert_exporter": "python",
   "pygments_lexer": "ipython3",
   "version": "3.8.3"
  }
 },
 "nbformat": 4,
 "nbformat_minor": 5
}
