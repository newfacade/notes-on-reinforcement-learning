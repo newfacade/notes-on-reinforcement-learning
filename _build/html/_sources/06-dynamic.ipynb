{
 "cells": [
  {
   "cell_type": "markdown",
   "id": "909dede3-3610-4b26-99f6-ac5fe12cef72",
   "metadata": {},
   "source": [
    "# Dynamic Programming\n",
    "\n",
    "```{note}\n",
    "The term dynamic programming (DP) refers to a collection of algorithms that can be\n",
    "used to compute optimal policies given a perfect model of the environment as a Markov\n",
    "decision process (MDP). Classical DP algorithms are of limited utility in reinforcement\n",
    "learning both because of their assumption of a perfect model and because of their great\n",
    "computational expense, but they are still important theoretically. DP provides an essential\n",
    "foundation for the understanding of the methods presented in the rest of this book. In\n",
    "fact, all of these methods can be viewed as attempts to achieve much the same effect as\n",
    "DP, only with less computation and without assuming a perfect model of the environment.\n",
    "```"
   ]
  },
  {
   "cell_type": "markdown",
   "id": "37696ffe-d918-49e0-900b-7af473b1cce7",
   "metadata": {},
   "source": [
    "## Policy Evaluation\n",
    "\n",
    "First we consider how to compute the state-value function $V_{\\pi}$ for an arbitrary policy $\\pi$. This is called policy evaluation in the DP literature. Recall the Bellman equation:\n",
    "\n",
    "$$\n",
    "\\begin{aligned}\n",
    "V_{\\pi}(s) &= \\mathbb{E}_{\\pi}[R_{t+1} + \\gamma V_{\\pi}(S_{t+1})|S_{t}=s]\\\\\n",
    "&= \\sum_{a}\\pi(a|s)\\sum_{s'\\in\\mathcal{S}}P(s'|s, a)\\left[R(s,a,s') + \\gamma V_{\\pi}(s')\\right]\n",
    "\\end{aligned}\n",
    "$$\n",
    "\n",
    "If the environment’s dynamics are completely known, then it is a system of $|S|$ linear equations in $|S|$ unknowns. In principle, its solution is a straightforward computation. For our purposes, iterative solution methods\n",
    "are most suitable. The initial approximation, $V_{0}$, is chosen arbitrarily, and each successive approximation is obtained by using the Bellman equation:\n",
    "\n",
    "$$\n",
    "\\begin{aligned}\n",
    "V_{k+1}(s) &= \\mathbb{E}_{\\pi}[R_{t+1} + \\gamma V_{k}(S_{t+1})|S_{t}=s]\\\\\n",
    "&= \\sum_{a}\\pi(a|s)\\sum_{s'\\in\\mathcal{S}}P(s'|s, a)\\left[R(s,a,s') + \\gamma V_{k}(s')\\right]\n",
    "\\end{aligned}\n",
    "$$\n",
    "\n",
    "Clearly, $V_{k} = V_{\\pi}$ is a fixed point for this update rule. Indeed, the sequence $\\{V_{k}\\}$ can be shown in general to converge to $V_{\\pi}$ as $k\\to\\infty$."
   ]
  },
  {
   "cell_type": "markdown",
   "id": "99deaa28-e764-4e14-ac84-a41381a9a70e",
   "metadata": {},
   "source": [
    "## Policy Improvement\n",
    "\n",
    "Our reason for computing the value function for a policy is to help find better policies. Suppose we have determined the value function $V_{\\pi}$ for an arbitrary deterministic policy $\\pi$. For some state $s$ we would like to know whether or not we should change the policy\n",
    "to deterministically choose an action $a\\ne \\pi(s)$.\n",
    "\n",
    "````{prf:theorem} Policy improvement theorem\n",
    "Let $\\pi$ and $\\pi'$ be any pair of deterministic policies such that, for all $s\\in\\mathcal{S}$,\n",
    "\n",
    "$$Q_{\\pi}(s, \\pi'(s)) \\ge V_{\\pi}(s)$$\n",
    "\n",
    "Then the policy $\\pi'$ must be as good as, or better than, $\\pi$.\n",
    "````\n",
    "\n",
    "````{prf:proof}\n",
    "The idea behind the proof of the policy improvement theorem is easy to understand, we keep expanding the $Q_{\\pi}$ side and reapplying the inequality:\n",
    "\n",
    "$\n",
    "\\begin{aligned}\n",
    "V_{\\pi}(s) &\\le Q_{\\pi}(s, \\pi'(s)) \\\\\n",
    "&=\\mathbb{E}_{\\pi}[R_{t+1} + \\gamma V_{\\pi}(S_{t+1})|S_{t}=s,A_{t}=\\pi'(s)]\\\\\n",
    "&=\\mathbb{E}_{\\pi'}[R_{t+1} + \\gamma V_{\\pi}(S_{t+1})|S_{t}=s]\\\\\n",
    "&\\le\\mathbb{E}_{\\pi'}[R_{t+1} + \\gamma Q_{\\pi}(S_{t+1},\\pi'(S_{t+1}))|S_{t}=s]\\\\\n",
    "&=\\mathbb{E}_{\\pi'}[R_{t+1} + \\gamma \\mathbb{E}[R_{t+2}+\\gamma V_{\\pi}(S_{t+2})|S_{t+1},A_{t+1}=\\pi'(S_{t+1})]|S_{t}=s]\\\\\n",
    "&=\\mathbb{E}_{\\pi'}[R_{t+1} + \\gamma R_{t+2} + \\gamma^{2}V_{\\pi}(S_{t+2})|S_{t}=s]\\\\\n",
    "&\\le\\mathbb{E}_{\\pi'}[R_{t+1} + \\gamma R_{t+2} + \\gamma^{2} R_{t+3} + \\gamma^{3}V_{\\pi}(S_{t+3})|S_{t}=s]\\\\\n",
    "&\\vdots\\\\\n",
    "&\\le\\mathbb{E}_{\\pi'}[R_{t+1} + \\gamma R_{t+2} + \\gamma^{2} R_{t+3} + \\gamma^{3}R_{t+4}+\\dots|S_{t}=s]\\\\\n",
    "&=V_{\\pi'}(s)\n",
    "\\end{aligned}\n",
    "$\n",
    "\n",
    "````\n",
    "\n",
    "Given a deterministic policy $\\pi$, consider the new greedy policy $\\pi'$ given by\n",
    "\n",
    "$$\n",
    "\\begin{aligned}\n",
    "\\pi'(s) := \\arg\\max_{a}Q_{\\pi}(s, a)\n",
    "\\end{aligned}\n",
    "$$\n",
    "\n",
    "The process of making a new policy that improves on an original policy, by making it greedy with respect to the value function of\n",
    "the original policy, is called policy improvement. Suppose the new greedy policy, $\\pi'$, is as good as, but not better than, the old policy $\\pi$. Then $V_{\\pi}=V_{\\pi'}$, the Bellman optimality equations are satisfied, and therefore, $V_{\\pi'}$ must be $V_{\\ast}$, and both $\\pi$ and $\\pi'$ must be optimal policies..\n",
    "\n",
    "So far we have considered the special case of deterministic policies. In the general case, a stochastic policy $\\pi$ specifies probabilities, $\\pi(a|s)$, for taking each action, $a$, in each state, $s$. The policy improvement theorem carries through as stated for the stochastic case."
   ]
  },
  {
   "cell_type": "markdown",
   "id": "85d6ffe1-43ab-44e6-b903-02dd41e593a3",
   "metadata": {},
   "source": [
    "## Policy Iteration\n",
    "\n",
    "Once a policy, $\\pi$, has been improved using $V_{\\pi}$ to yield a better policy, $\\pi'$, we can then\n",
    "compute $V_{\\pi'}$ and improve it again to yield an even better $\\pi''$. We can thus obtain a\n",
    "sequence of monotonically improving policies and value functions:\n",
    "\n",
    "$$\n",
    "\\pi_{0}\\overset{E}{\\longrightarrow} V_{\\pi_{0}}\\overset{I}{\\longrightarrow} \\pi_{1}\\overset{E}{\\longrightarrow} V_{\\pi_{1}}\\overset{I}{\\longrightarrow} \\dots\n",
    "$$\n",
    "\n",
    "where $\\overset{E}{\\longrightarrow}$ denotes a policy evaluation and $\\overset{I}{\\longrightarrow}$ denotes a policy improvement. Each\n",
    "policy is guaranteed to be a strict improvement over the previous one (unless it is already\n",
    "optimal). This process must converge to an optimal policy and optimal value function."
   ]
  },
  {
   "cell_type": "markdown",
   "id": "355d08e3-f1c6-4f6c-9571-4ef137ba8551",
   "metadata": {},
   "source": [
    "## Value Iteration\n",
    "\n",
    "One drawback to policy iteration is that each of its iterations involves policy evaluation, which may itself be a iterative computation. \n",
    "\n",
    "In fact, the policy evaluation step of policy iteration can be truncated in several ways without losing the convergence guarantees of policy iteration. One important special case is when policy evaluation is stopped after just one update of each state. This algorithm is called value iteration. It can be written as a particularly simple update\n",
    "operation that combines the policy improvement and truncated policy evaluation steps:\n",
    "\n",
    "$$\n",
    "V_{k+1}(s) := \\max_{a}\\mathbb{E}[R_{t+1} + \\gamma V_{k}(S_{t+1})|S_{t}=s,A_{t}=a]\n",
    "$$\n",
    "\n",
    "Another way of understanding value iteration is by reference to the Bellman optimality\n",
    "equation. Note that value iteration is obtained simply by turning the Bellman\n",
    "optimality equation into an update rule."
   ]
  },
  {
   "cell_type": "code",
   "execution_count": null,
   "id": "46445b25-870a-4a1c-b4b9-0a09e92cb70b",
   "metadata": {},
   "outputs": [],
   "source": []
  }
 ],
 "metadata": {
  "kernelspec": {
   "display_name": "Python 3 (ipykernel)",
   "language": "python",
   "name": "python3"
  },
  "language_info": {
   "codemirror_mode": {
    "name": "ipython",
    "version": 3
   },
   "file_extension": ".py",
   "mimetype": "text/x-python",
   "name": "python",
   "nbconvert_exporter": "python",
   "pygments_lexer": "ipython3",
   "version": "3.11.5"
  }
 },
 "nbformat": 4,
 "nbformat_minor": 5
}
