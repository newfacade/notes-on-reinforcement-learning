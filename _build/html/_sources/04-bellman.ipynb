{
 "cells": [
  {
   "cell_type": "markdown",
   "id": "9b03eeb9-8565-4acf-9a24-29ed65105b67",
   "metadata": {
    "tags": []
   },
   "source": [
    "# The Bellman Equation\n",
    "\n",
    "```{note}\n",
    "The Bellman equation simplifies our state value or state-action value calculation.\n",
    "```\n",
    "\n",
    "## Relation between V and Q function\n",
    "\n",
    "V from Q:\n",
    "\n",
    "$$V_{\\pi}(s) = \\sum_{a\\in\\mathcal{A}}\\pi(a|s)Q_{\\pi}(s, a)$$\n",
    "\n",
    "Q from V:\n",
    "\n",
    "$$Q_{\\pi}(s, a) = \\sum_{s'\\in\\mathcal{S}}P(s'|s, a)\\left[R(s,a,s') + \\gamma V_{\\pi}(s')\\right]$$"
   ]
  },
  {
   "cell_type": "markdown",
   "id": "a3f4c166-9fae-4ce5-836e-84b963cfcf30",
   "metadata": {},
   "source": [
    "## Bellman equation of the state-value function \n",
    "\n",
    "With what we have learned so far, we know that if we calculate $V_{\\pi}(S_{t})$ (the value of a state), we need to calculate the return starting at that state and then follow the policy forever after.\n",
    "\n",
    "Instead of calculating the expected return for each state or each state-action pair, we can use the Bellman equation (if you know what Dynamic Programming is, this is very similar!). The Bellman equation is a recursive equation that works like this: instead of starting for each state from the beginning and calculating the return, we can consider the value of any state as:\n",
    "\n",
    "The immediate reward $R_{t+1}$ + the discounted value of the state that follows $\\gamma * V_{\\pi}(S_{t+1})$.\n",
    "\n",
    "![](images/bellman4.jpeg)"
   ]
  },
  {
   "cell_type": "markdown",
   "id": "8d9f1a3a-721f-4b46-bb9f-38665525cdde",
   "metadata": {},
   "source": [
    "## Bellman equation of the action-value function\n",
    "\n",
    "The Bellman equation can also be expressed in terms of action values:\n",
    "\n",
    "$$Q_{\\pi}(s, a) = \\mathbb{E}_{\\pi}[R_{t+1} + \\gamma * Q_{\\pi}(S_{t+1}, A_{t+1})|S_{t}=s, A_{t}=a]$$"
   ]
  },
  {
   "cell_type": "code",
   "execution_count": null,
   "id": "a601527e-80ab-4353-8a11-d07138017bfb",
   "metadata": {},
   "outputs": [],
   "source": []
  }
 ],
 "metadata": {
  "kernelspec": {
   "display_name": "Python 3",
   "language": "python",
   "name": "python3"
  },
  "language_info": {
   "codemirror_mode": {
    "name": "ipython",
    "version": 3
   },
   "file_extension": ".py",
   "mimetype": "text/x-python",
   "name": "python",
   "nbconvert_exporter": "python",
   "pygments_lexer": "ipython3",
   "version": "3.8.3"
  }
 },
 "nbformat": 4,
 "nbformat_minor": 5
}
