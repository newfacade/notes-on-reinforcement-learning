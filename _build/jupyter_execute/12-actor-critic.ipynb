{
 "cells": [
  {
   "cell_type": "markdown",
   "id": "bd36b119-19a6-4615-ad6a-92fb09c3d003",
   "metadata": {},
   "source": [
    "# Actor-Critic Methods\n",
    "\n",
    "```{note}\n",
    "In Policy-Based methods, we aim to optimize the policy directly without using a value function. We saw that Reinforce worked well. However, because we use Monte-Carlo sampling to estimate return, we have significant variance in policy gradient estimation.<br>\n",
    "So today we’ll study Actor-Critic methods, a hybrid architecture combining value-based and Policy-Based methods that helps to stabilize the training by reducing the variance using:<br>\n",
    "* An Actor that controls how our agent behaves (Policy-Based method)<br>\n",
    "* A Critic that measures how good the taken action is (Value-Based method)\n",
    "```"
   ]
  },
  {
   "cell_type": "markdown",
   "id": "ce9e04e6-9bf1-452a-9829-dbe34e11ff03",
   "metadata": {},
   "source": [
    "## The Problem of Variance in Reinforce\n",
    "\n",
    "In Reinforce, we want to increase the probability of actions in a trajectory proportionally to how high the return is.\n",
    "\n",
    "![](images/actor1.jpeg)\n",
    "\n",
    "This return $R(\\tau)$ is calculated using a Monte-Carlo sampling. We collect a trajectory and calculate the discounted return, and use this score to increase or decrease the probability of every action taken in that trajectory.\n",
    "\n",
    "The advantage of this method is that it’s unbiased. Since we’re not estimating the return, we use only the true return we obtain.\n",
    "\n",
    "Given the stochasticity of the environment and stochasticity of the policy, trajectories can lead to different returns, which can lead to high variance. Consequently, the same starting state can lead to very different returns. Because of this, the return starting at the same state can vary significantly across episodes.\n",
    "\n",
    "![](images/actor2.jpeg)\n",
    "\n",
    "The solution is to mitigate the variance by using a large number of trajectories. However, increasing the batch size significantly reduces sample efficiency. So we need to find additional mechanisms to reduce the variance."
   ]
  },
  {
   "cell_type": "markdown",
   "id": "bdebf808-564f-4f87-97f9-ede4c6d1fe2b",
   "metadata": {},
   "source": [
    "## Advantage Actor-Critic (A2C)\n",
    "\n",
    "### Reducing variance with Actor-Critic methods\n",
    "\n",
    "The solution to reducing the variance of the Reinforce algorithm and training our agent faster and better is to use a combination of Policy-Based and Value-Based methods: the Actor-Critic method.\n",
    "\n",
    "To understand the Actor-Critic, imagine you’re playing a video game. You can play with a friend that will provide you with some feedback. You’re the Actor and your friend is the Critic.\n",
    "\n",
    "![](images/ac3.jpeg)\n",
    "\n",
    "You don’t know how to play at the beginning, so you try some actions randomly. The Critic observes your action and provides feedback. Learning from this feedback, you’ll update your policy and be better at playing that game. On the other hand, your friend (Critic) will also update their way to provide feedback so it can be better next time.\n",
    "\n",
    "This is the idea behind Actor-Critic. We learn two function approximations:\n",
    "\n",
    "* A policy that controls how our agent acts: $\\pi_{\\theta}(s)$\n",
    "\n",
    "* A value function to assist the policy update by measuring how good the action taken is: $\\hat{q}_{w}(s, a)$"
   ]
  },
  {
   "cell_type": "markdown",
   "id": "6807afc3-2c7b-41bf-9ef8-6a2a0d47bfd5",
   "metadata": {},
   "source": [
    "### The Actor-Critic Process\n",
    "\n",
    "Let’s see the training process to understand how the Actor and Critic are optimized:\n",
    "\n",
    "* At each timestep $t$, we get the current state $S_{t}$ from the environment and pass it as input through our Actor and Critic.\n",
    "\n",
    "* Our Policy takes the state and outputs an action $A_{t}$.\n",
    "\n",
    "* The Critic takes that action also as input and, using $S_{t}$ and $A_{t}$, computes the value of taking that action at that state: the Q-value.\n",
    "\n",
    "* The action $A_{t}$ performed in the environment outputs a new state $S_{t+1}$ and a reward $R_{t+1}$.\n",
    "\n",
    "* The Actor updates its policy parameters using the Q value.\n",
    "\n",
    "![](images/ac4.jpeg)\n",
    "\n",
    "* Thanks to its updated parameters, the Actor produces the next action to take at $A_{t+1}$ given the new state $S_{t+1}$.\n",
    "\n",
    "* The Critic then updates its value parameters.\n",
    "\n",
    "$$\\Delta{w} = \\beta(r_{t+1} + \\gamma\\hat{q}_{w}(s_{t+1}, a_{t+1}) - \\hat{q}_{w}(s_{t}, a_{t}))\\nabla_{w}\\hat{q}_{w}(s_{t}, a_{t})$$\n",
    "\n",
    "```{tip}\n",
    "If we fix the TD target.\n",
    "\n",
    "$$\\Delta{w} = \\frac{\\beta}{2}\\nabla_{w}(r_{t+1} + \\gamma\\hat{q}_{w}(s_{t+1}, a_{t+1}) - \\hat{q}_{w}(s_{t}, a_{t}))^{2}$$\n",
    "```"
   ]
  },
  {
   "cell_type": "markdown",
   "id": "9d32b19c-d9eb-4898-af02-400a594947e1",
   "metadata": {},
   "source": [
    "### Adding Advantage in Actor-Critic (A2C)\n",
    "\n",
    "We can stabilize learning further by using the Advantage function as Critic instead of the Action value function.\n",
    "\n",
    "The idea is that the Advantage function calculates the relative advantage of an action compared to the others possible at a state: how taking that action at a state is better compared to the average value of the state. It’s subtracting the mean value of the state from the state action pair:\n",
    "\n",
    "![](images/ac5.jpeg)\n",
    "\n",
    "The extra reward is what’s beyond the expected value of that state.\n",
    "\n",
    "* If $A(s, a) > 0$, our gradient is pushed in that direction.\n",
    "\n",
    "* If $A(s, a) < 0$, our gradient is pushed in the opposite direction.\n",
    "\n",
    "The problem with implementing this advantage function is that it requires two value functions - $Q(s, a)$ and $V(s)$, Fortunately, we can use the TD error as a good estimator of the advantage function.\n",
    "\n",
    "![](images/ac6.jpeg)"
   ]
  },
  {
   "cell_type": "code",
   "execution_count": null,
   "id": "e8f8d9a9-5e1b-4b8c-b9d6-f245b0df40ac",
   "metadata": {},
   "outputs": [],
   "source": []
  }
 ],
 "metadata": {
  "kernelspec": {
   "display_name": "Python 3",
   "language": "python",
   "name": "python3"
  },
  "language_info": {
   "codemirror_mode": {
    "name": "ipython",
    "version": 3
   },
   "file_extension": ".py",
   "mimetype": "text/x-python",
   "name": "python",
   "nbconvert_exporter": "python",
   "pygments_lexer": "ipython3",
   "version": "3.8.3"
  }
 },
 "nbformat": 4,
 "nbformat_minor": 5
}