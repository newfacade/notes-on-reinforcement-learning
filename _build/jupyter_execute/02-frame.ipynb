{
 "cells": [
  {
   "cell_type": "markdown",
   "id": "414e10c1-6530-4c1c-a364-3df20fba9b4e",
   "metadata": {},
   "source": [
    "# The Reinforcement Learning Framework"
   ]
  },
  {
   "cell_type": "markdown",
   "id": "fe37bb71-7062-457f-88d4-9826501d36a4",
   "metadata": {},
   "source": [
    "## The RL Process\n",
    "\n",
    "![](./images/frame1.jpeg)\n",
    "\n",
    "To understand the RL process, let’s imagine an agent learning to play a platform game:\n",
    "\n",
    "![](./images/frame2.jpeg)\n",
    "\n",
    "* Our Agent receives state $S_{0}$ from the Environment — we receive the first frame of our game (Environment).\n",
    "\n",
    "* Based on that state $S_{0}$, the Agent takes action $A_{0}$ — our Agent will move to the right.\n",
    "\n",
    "* The environment goes to a new state $S_{1}$ — new frame.\n",
    "\n",
    "* The environment gives some reward $R_{1}$ to the Agent — we’re not dead (Positive Reward +1).\n",
    "\n",
    "This RL loop outputs a sequence of state, action, reward and next state."
   ]
  },
  {
   "cell_type": "markdown",
   "id": "1f4cc6dc-e5fc-4ca2-aa3b-99ff605fcda0",
   "metadata": {},
   "source": [
    "## The reward hypothesis: the central idea of Reinforcement Learning\n",
    "\n",
    "$\\Rightarrow$ Why is the goal of the agent to maximize the expected return?\n",
    "\n",
    "Because RL is based on the reward hypothesis, which is that all goals can be described as the maximization of the expected return (expected cumulative reward)."
   ]
  },
  {
   "cell_type": "markdown",
   "id": "fa3c4fe7-10aa-42fe-b70b-51eb9976be3b",
   "metadata": {},
   "source": [
    "## Observations/States Space\n",
    "\n",
    "Observations/States are the information our agent gets from the environment. In the case of a video game, it can be a frame (a screenshot). In the case of the trading agent, it can be the value of a certain stock, etc.\n",
    "\n",
    "There is a differentiation to make between observation and state, however:\n",
    "\n",
    "* State $s$: is a complete description of the state of the world (there is no hidden information). In a fully observed environment. \n",
    "\n",
    "    ![](./images/frame4.jpeg)\n",
    "\n",
    "    In a chess game, we have access to the whole board information, so we receive a state from the environment. In other words, the environment is fully observed.\n",
    "    \n",
    "* Observation $o$: is a partial description of the state. In a partially observed environment.\n",
    "    \n",
    "    ![](./images/frame5.jpeg)\n",
    "\n",
    "    In Super Mario Bros, we only see the part of the level close to the player, so we receive an observation.\n",
    "    \n",
    "```{caution}\n",
    "In this course, we use the term \"state\" to denote both state and observation, but we will make the distinction in implementations.\n",
    "```"
   ]
  },
  {
   "cell_type": "markdown",
   "id": "3cfa6843-1040-40cd-be64-46a0c8ce2ed7",
   "metadata": {},
   "source": [
    "## Action Space\n",
    "\n",
    "The Action space is the set of all possible actions in an environment. The actions can come from a discrete or continuous space:\n",
    "\n",
    "* Discrete space: the number of possible actions is finite. Again, in Super Mario Bros, we have a finite set of actions since we have only 4 directions.\n",
    "\n",
    "* Continuous space: the number of possible actions is infinite. A Self Driving Car agent has an infinite number of possible actions since it can turn left 20°, 21,1°, 21,2°, turn right 20°, etc."
   ]
  },
  {
   "cell_type": "markdown",
   "id": "29d5b556-9cb4-4662-9f7e-7ac94b9b76ab",
   "metadata": {},
   "source": [
    "## Reward and Return\n",
    "\n",
    "The reward function $R$ is critically important in reinforcement learning. It depends on the current state of the world, the action just taken, and the next state of the world:\n",
    "\n",
    "$$r_{t+1} = R(s_{t}, a_{t}, s_{t+1})$$\n",
    "\n",
    "although frequently this is simplified to just a dependence on the current state, $r_{t+1} = R(s_t)$, or state-action pair $r_{t+1} = R(s_t,a_t)$.\n",
    "\n",
    "The goal of the agent is to maximize some notion of cumulative reward over a trajectory, but this actually can mean a few things. We’ll notate all of these cases with $R(\\tau)$, and it will either be clear from context which case we mean, or it won’t matter (because the same equations will apply to all cases).\n",
    "\n",
    "One kind of return is the finite-horizon undiscounted return, which is just the sum of rewards obtained in a fixed window of steps:\n",
    "\n",
    "$$R(\\tau) = \\sum_{t=1}^T r_t$$\n",
    "\n",
    "Another kind of return is the infinite-horizon discounted return, which is the sum of all rewards ever obtained by the agent, but discounted by how far off in the future they’re obtained. This formulation of reward includes a discount factor $\\gamma \\in (0,1)$:\n",
    "\n",
    "$$R(\\tau) = \\sum_{t=1}^{\\infty} \\gamma^t r_t$$\n",
    "\n",
    "Why would we ever want a discount factor, though? Don’t we just want to get all rewards? We do, but the discount factor is both intuitively appealing and mathematically convenient. On an intuitive level: cash now is better than cash later. Mathematically: an infinite-horizon sum of rewards may not converge to a finite value, and is hard to deal with in equations. But with a discount factor and under reasonable conditions, the infinite sum converges."
   ]
  },
  {
   "cell_type": "markdown",
   "id": "01272561-d5df-4c84-8564-3f635d248ec2",
   "metadata": {},
   "source": [
    "## Formalism\n",
    "\n",
    "So far, we’ve discussed the agent’s environment in an informal way, but if you try to go digging through the literature, you’re likely to run into the standard mathematical formalism for this setting: Markov Decision Processes (MDPs). An MDP is a 5-tuple, $\\langle S, A, R, P, \\rho_0 \\rangle$, where\n",
    "\n",
    "* $S$ is the set of all valid states,\n",
    "* $A$ is the set of all valid actions,\n",
    "* $R : S \\times A \\times S \\to \\mathbb{R}$ is the reward function, with $r_{t+1} = R(s_t, a_t, s_{t+1})$,\n",
    "* $P : S \\times A \\to \\mathcal{P}(S)$ is the transition probability function, with $P(s'|s,a)$ being the probability of transitioning into state $s'$ if you start in state $s$ and take action $a$,\n",
    "* and $\\rho_0$ is the starting state distribution.\n",
    "\n",
    "The name Markov Decision Process refers to the fact that the system obeys the Markov property: transitions only depend on the most recent state and action, and no prior history."
   ]
  },
  {
   "cell_type": "code",
   "execution_count": null,
   "id": "3918486d-5d43-4a15-8013-8f091e788b5b",
   "metadata": {},
   "outputs": [],
   "source": []
  }
 ],
 "metadata": {
  "kernelspec": {
   "display_name": "Python 3",
   "language": "python",
   "name": "python3"
  },
  "language_info": {
   "codemirror_mode": {
    "name": "ipython",
    "version": 3
   },
   "file_extension": ".py",
   "mimetype": "text/x-python",
   "name": "python",
   "nbconvert_exporter": "python",
   "pygments_lexer": "ipython3",
   "version": "3.8.3"
  }
 },
 "nbformat": 4,
 "nbformat_minor": 5
}