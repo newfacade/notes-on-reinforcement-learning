{
 "cells": [
  {
   "cell_type": "markdown",
   "id": "360306cb-0341-49b9-9fd8-9d1d63e68910",
   "metadata": {},
   "source": [
    "# Value Iteration and Policy iteration\n",
    "\n",
    "Model-based methods."
   ]
  },
  {
   "cell_type": "markdown",
   "id": "4a62f9bd-493a-4356-a0f3-870a6ff85689",
   "metadata": {},
   "source": [
    "## Value Iteration\n",
    "\n",
    "How to solve the Bellman optimal equation?\n",
    "\n",
    "$$v=\\underset{\\pi\\in\\Pi}{\\max}(r_{\\pi} + \\gamma P_{\\pi}v)$$\n",
    "\n",
    "Value Iteration solve this problem iteratively:\n",
    "\n",
    "$$v_{k+1}=\\underset{\\pi\\in\\Pi}{\\max}(r_{\\pi} + \\gamma P_{\\pi}v_{k})$$\n",
    "\n",
    "* Initial optimal state value guess $v_{0}$\n",
    "\n",
    "* Policy update: Using current optimal state value guess $v_{k}(s)$ to calculate $q_{k}(s, a)$, set\n",
    "\n",
    "$$\\pi_{k+1}(s,a) = \\begin{cases}\n",
    "1, &\\text{If }a=\\underset{a\\in\\mathcal{A}}{\\text{argmax}}\\ q_{k}(s,a)\\\\\n",
    "0, &\\text{Otherwise}\n",
    "\\end{cases}$$\n",
    "\n",
    "* Value update: $v_{k+1}(s) = r_{\\pi_{k+1}}(s) + \\gamma = \\underset{a\\in\\mathcal{A}}{\\max}q_{k}(s,a)$"
   ]
  },
  {
   "cell_type": "code",
   "execution_count": null,
   "id": "1a9d17ce-3472-45f2-8e3a-947efd8b67b9",
   "metadata": {},
   "outputs": [],
   "source": []
  }
 ],
 "metadata": {
  "kernelspec": {
   "display_name": "Python 3 (ipykernel)",
   "language": "python",
   "name": "python3"
  },
  "language_info": {
   "codemirror_mode": {
    "name": "ipython",
    "version": 3
   },
   "file_extension": ".py",
   "mimetype": "text/x-python",
   "name": "python",
   "nbconvert_exporter": "python",
   "pygments_lexer": "ipython3",
   "version": "3.9.13"
  }
 },
 "nbformat": 4,
 "nbformat_minor": 5
}
