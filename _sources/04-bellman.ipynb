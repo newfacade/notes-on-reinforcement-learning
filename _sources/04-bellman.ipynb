{
 "cells": [
  {
   "cell_type": "markdown",
   "id": "9b03eeb9-8565-4acf-9a24-29ed65105b67",
   "metadata": {
    "tags": []
   },
   "source": [
    "# The Bellman Equation\n",
    "\n",
    "```{note}\n",
    "The Bellman equation simplifies our state value or state-action value calculation.\n",
    "```\n",
    "\n",
    "## Relation between V and Q function\n",
    "\n",
    "V from Q:\n",
    "\n",
    "$$V_{\\pi}(s) = \\sum_{a\\in\\mathcal{A}}\\pi(a|s)Q_{\\pi}(s, a)$$\n",
    "\n",
    "Q from V:\n",
    "\n",
    "$$Q_{\\pi}(s, a) = \\sum_{s'\\in\\mathcal{S}}P(s'|s, a)\\left[R(s,a,s') + \\gamma V_{\\pi}(s')\\right]$$"
   ]
  },
  {
   "cell_type": "markdown",
   "id": "a3f4c166-9fae-4ce5-836e-84b963cfcf30",
   "metadata": {},
   "source": [
    "## Bellman equation of the state-value function \n",
    "\n",
    "With what we have learned so far, we know that if we calculate $V_{\\pi}(S_{t})$ (the value of a state), we need to calculate the return starting at that state and then follow the policy forever after.\n",
    "\n",
    "Instead of calculating the expected return for each state or each state-action pair, we can use the Bellman equation (if you know what Dynamic Programming is, this is very similar!). The Bellman equation is a recursive equation that works like this: instead of starting for each state from the beginning and calculating the return, we can consider the value of any state as:\n",
    "\n",
    "The immediate reward $R_{t+1}$ + the discounted value of the state that follows $\\gamma * V_{\\pi}(S_{t+1})$.\n",
    "\n",
    "![](images/bellman4.jpeg)"
   ]
  },
  {
   "cell_type": "markdown",
   "id": "8d9f1a3a-721f-4b46-bb9f-38665525cdde",
   "metadata": {},
   "source": [
    "## Bellman equation of the action-value function\n",
    "\n",
    "The Bellman equation can also be expressed in terms of action values:\n",
    "\n",
    "$$Q_{\\pi}(s, a) = \\mathbb{E}_{\\pi}[R_{t+1} + \\gamma * Q_{\\pi}(S_{t+1}, A_{t+1})|S_{t}=s, A_{t}=a]$$"
   ]
  },
  {
   "cell_type": "markdown",
   "id": "47150d10-77bd-48a3-b559-307f97f1e8b8",
   "metadata": {},
   "source": [
    "## Closed-form solution of the Bellman equation\n",
    "\n",
    "Bellman equation:\n",
    "\n",
    "$$\n",
    "V_{\\pi}(s) = \\sum_{a\\in\\mathcal{A}}\\pi(a|s)\\sum_{s'\\in\\mathcal{S}}P(s'|s,a)\\left[R(s,a,s') + \\gamma V_{\\pi}(s')\\right]\n",
    "$$\n",
    "\n",
    "can be expressed in the matrix form:\n",
    "\n",
    "$$v_{\\pi} = r_{\\pi} + \\gamma P_{\\pi}v_{\\pi}.$$\n",
    "\n",
    "Next we will proof that $I - \\gamma P_{\\pi}$ is invertible, so state-values $v_{\\pi} = (I - \\gamma P_{\\pi})^{-1}r_{\\pi}$ is the unique solution of the Bellman equation.\n",
    "\n",
    "````{prf:theorem} Gershgorin circle theorem\n",
    "Let $A$ be a $n\\times n$ matrix, with entries $a_{ij}$. Let\n",
    "\n",
    "$$R_i = \\sum_{j\\ne i}|a_{ij}|.$$\n",
    "\n",
    "Let $D(a_{ii}, R_i)$ be a closed disc centered at $a_{ii}$ with radius $R_{i}$. Such a disc is called a Gershgorin disc. Then every eigenvalue of $A$ lies within at least one of the Gershgorin discs.\n",
    "````\n",
    "\n",
    "````{prf:proof}\n",
    "Let $\\lambda$ be an eigenvalue of $A$ with corresponding eigenvector $x$. Find $i$ such that the element of $x$ with the largest absolute value is $x_{i}$. Since $Ax=\\lambda x$, in particular we take the $i$-th component of that equation to get:\n",
    "\n",
    "$$\\sum_{j}a_{ij}x_j = \\lambda x_{i}.$$\n",
    "\n",
    "Taking $a_{ii}$ to the other side:\n",
    "\n",
    "$$\\sum_{j\\ne i}a_{ij}x_j = (\\lambda - a_{ii}) x_{i}.$$\n",
    "\n",
    "Therefore:\n",
    "\n",
    "$$|\\lambda - a_{ii}| = \\left|\\sum_{j\\ne i}\\frac{a_{ij}x_j}{x_i}\\right|\\le \\sum_{j\\ne i}|a_{ij}| = R_{i}.$$\n",
    "````\n",
    "\n",
    "Now according to the Gershgorin circle\n",
    "theorem, every eigenvalue of $I - \\gamma P_{\\pi}$ lies within at least one of the Gershgorin\n",
    "circles. The $i$-th Gershgorin circle has a center at $1-\\gamma p_{\\pi}(s_i|s_i)$ and\n",
    "a radius equal to $\\sum_{j\\ne i}\\gamma p_{\\pi}(s_j|s_i)$. Since $\\gamma<1$, we know that\n",
    "the radius is less than the magnitude of the center: \n",
    "\n",
    "$$\\sum_{j\\ne i}\\gamma p_{\\pi}(s_j|s_i) < 1-\\gamma p_{\\pi}(s_i|s_i).$$\n",
    "\n",
    "Therefore, all Gershgorin circles do not encircle the origin, and hence no eigenvalue $I - \\gamma P_{\\pi}$ is zero."
   ]
  },
  {
   "cell_type": "code",
   "execution_count": null,
   "id": "9dc3da10-e9f9-4031-8182-a6697f3f7664",
   "metadata": {},
   "outputs": [],
   "source": []
  }
 ],
 "metadata": {
  "kernelspec": {
   "display_name": "Python 3 (ipykernel)",
   "language": "python",
   "name": "python3"
  },
  "language_info": {
   "codemirror_mode": {
    "name": "ipython",
    "version": 3
   },
   "file_extension": ".py",
   "mimetype": "text/x-python",
   "name": "python",
   "nbconvert_exporter": "python",
   "pygments_lexer": "ipython3",
   "version": "3.11.5"
  }
 },
 "nbformat": 4,
 "nbformat_minor": 5
}
