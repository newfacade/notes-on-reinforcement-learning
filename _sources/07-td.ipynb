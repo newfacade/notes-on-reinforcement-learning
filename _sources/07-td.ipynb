{
 "cells": [
  {
   "cell_type": "markdown",
   "id": "1f9ef4f0-e532-4b19-9901-2d7b148c47f9",
   "metadata": {},
   "source": [
    "# Temporal-Difference methods\n",
    "\n",
    "```{note}\n",
    "Monte Carlo waits until the end of the episode, calculates return and uses it as a target for updating state values.<br>\n",
    "Temporal Difference, on the other hand, waits for only one interaction (one step) to form a TD target and update state values.\n",
    "```"
   ]
  },
  {
   "cell_type": "markdown",
   "id": "375cd2d2-a5b4-441f-a801-806b95f18255",
   "metadata": {},
   "source": [
    "## TD learning of state values\n",
    "\n",
    "The idea with TD is to update the $v(s_{t})$ at each step.\n",
    "\n",
    "But because we didn’t experience an entire episode, we don’t have $G_{t}$. Instead, we estimate $G_{t}$ by adding $r_{t+1}$ and the discounted value of the next state.\n",
    "\n",
    "$$v(s_{t})\\gets v(s_{t}) + \\alpha[(r_{t+1} + \\gamma v(s_{t+1})) - v(s_{t})]$$"
   ]
  },
  {
   "cell_type": "markdown",
   "id": "aab69477-3995-4912-8062-32e57d34f76a",
   "metadata": {},
   "source": [
    "## TD learning of action values: Sarsa\n",
    "\n",
    "Suppose we have some experience samples generated following $\\pi$: $s_{0},a_{0},r_{1},s_{1},a_{1},\\dots,s_{t},a_{t},r_{t+1},s_{t+1},a_{t+1},\\dots$, We can use the following Sarsa algorithm:\n",
    "\n",
    "$$\n",
    "q(s_{t},a_{t}) \\gets q(s_{t},a_{t}) + \\alpha\\left[(r_{t+1} + \\gamma q(s_{t+1},a_{t+1})) - q(s_{t},a_{t})\\right]\n",
    "$$\n",
    "\n",
    "Why is this algorithm called \"Sarsa\"? This is because each iteration requires $(s_{t},a_{t},r_{t+1},s_{t+1},a_{t+1})$."
   ]
  },
  {
   "cell_type": "code",
   "execution_count": null,
   "id": "79aaa64f-cdc0-4749-81ae-dc285dc7fb4a",
   "metadata": {},
   "outputs": [],
   "source": []
  }
 ],
 "metadata": {
  "kernelspec": {
   "display_name": "Python 3",
   "language": "python",
   "name": "python3"
  },
  "language_info": {
   "codemirror_mode": {
    "name": "ipython",
    "version": 3
   },
   "file_extension": ".py",
   "mimetype": "text/x-python",
   "name": "python",
   "nbconvert_exporter": "python",
   "pygments_lexer": "ipython3",
   "version": "3.8.3"
  }
 },
 "nbformat": 4,
 "nbformat_minor": 5
}
