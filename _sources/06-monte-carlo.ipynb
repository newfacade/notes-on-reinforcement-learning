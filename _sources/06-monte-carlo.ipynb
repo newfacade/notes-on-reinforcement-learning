{
 "cells": [
  {
   "cell_type": "markdown",
   "id": "35ae337a-376b-4dd1-b121-959cb7d8fb4e",
   "metadata": {},
   "source": [
    "# Monte Carlo Methods\n",
    "\n",
    "It must be noted that the action values lies in the core of the two steps of the policy iteration algorithm: \n",
    "\n",
    "* policy evaluation aims to compute the state values given the model.\n",
    "\n",
    "* policy improvement first uses state values to get action values, then optimize policy using action values.\n",
    "\n",
    "By the definition of action value:\n",
    "\n",
    "$$\n",
    "\\begin{aligned}\n",
    "q_{\\pi_{k}}(s, a) &= \\mathbb{E}[G_{t}|S_{t}=s,A_{t}=a]\\\\\n",
    "&= \\mathbb{E}[R_{t+1} + \\gamma R_{t+2} + \\gamma^{2} R_{t+3} + \\dots|S_{t}=s,A_{t}=a]\n",
    "\\end{aligned}\n",
    "$$\n",
    "\n",
    "Starting from $(s, a)$, the agent can iteracts with the environment following $\\pi_{k}$ and then obtain a certain number of episodes. Suppose there are $n$ episodes and that the return of the $i$-th episode is $g_{\\pi_{k}}^{(i)}(s, a)$, then:\n",
    "\n",
    "$$ q_{\\pi_{k}}(s, a) = \\mathbb{E}[G_{t}|S_{t}=s,A_{t}=a_{t}] \\approx \\frac{1}{n}\\sum_{i=1}^{n}g_{\\pi_{k}}^{(i)}(s, a)$$"
   ]
  },
  {
   "cell_type": "markdown",
   "id": "b9ef93d4-6d80-4a98-9d77-fff0e8678619",
   "metadata": {},
   "source": [
    "## The MC Basic algorithm\n",
    "\n",
    "Starting from an initial policy $\\pi_{0}$, the algorithm has two steps in the $k$-th iteration ($k=0,1,2,\\dots$).\n",
    "\n",
    "* Step 1: Policy evaluation. This step is used to estimate $q_{\\pi_{k}}(s, a)$ for all $(s,a)$.\n",
    "\n",
    "* Step 2: Policy improvement: $\\pi_{k+1}(a|s)=1$ if $a=\\text{argmax}_{a'}q_{\\pi_{k}}(s, a')$ else $0$."
   ]
  },
  {
   "cell_type": "code",
   "execution_count": null,
   "id": "0c5f767d-9659-4306-a8c3-ee6680e5dd05",
   "metadata": {},
   "outputs": [],
   "source": []
  }
 ],
 "metadata": {
  "kernelspec": {
   "display_name": "Python 3",
   "language": "python",
   "name": "python3"
  },
  "language_info": {
   "codemirror_mode": {
    "name": "ipython",
    "version": 3
   },
   "file_extension": ".py",
   "mimetype": "text/x-python",
   "name": "python",
   "nbconvert_exporter": "python",
   "pygments_lexer": "ipython3",
   "version": "3.8.3"
  }
 },
 "nbformat": 4,
 "nbformat_minor": 5
}
