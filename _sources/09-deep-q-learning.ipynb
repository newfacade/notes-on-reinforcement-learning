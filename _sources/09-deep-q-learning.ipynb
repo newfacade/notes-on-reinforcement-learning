{
 "cells": [
  {
   "cell_type": "markdown",
   "id": "bf8a7ee7-419a-4fb0-9fe7-d79852fc7258",
   "metadata": {},
   "source": [
    "# Deep Q-Learning\n",
    "\n",
    "```{note}\n",
    "Q-Learning is a tabular method. This becomes a problem if the states and actions spaces are not small enough to be represented efficiently by arrays and tables.<br>\n",
    "If the state space is gigantic, the best idea is to approximate the Q-values using a parametrized Q-function $Q_{\\theta}(s, a)$.<br>\n",
    "Deep Q-Learning uses a neural network that takes a state and outputs one approximate Q-Value for each possible action.\n",
    "```\n",
    "\n",
    "![](images/deep-q1.jpeg)"
   ]
  },
  {
   "cell_type": "markdown",
   "id": "e13194e3-0f56-4d81-8a54-39d076725a9e",
   "metadata": {},
   "source": [
    "## The Deep Q-Learning Algorithm\n",
    "\n",
    "Instead of updating the Q-value of a state-action pair directly as we have done with Q-Learning. In Deep Q-Learning, we create a loss function that compares our Q-value prediction and the Q-target and uses gradient descent to update the weights of our Deep Q-Network to approximate our Q-values better.\n",
    "\n",
    "```{prf:algorithm} Deep Q-Learning\n",
    ":label: my-algorithm\n",
    "\n",
    "Initialize replay memory $\\mathcal{D}$ to capacity $N$<br>\n",
    "Initialize action-value function $Q$ with random weights $\\theta$<br>\n",
    "Initialize target action-value function with weights $\\theta^{-}=\\theta$<br>\n",
    "\n",
    "**for** episode $= 1, M$ **do**<br>\n",
    "$\\quad$Initialise state $s_1$<br>\n",
    "$\\quad$**for** $t= 1, T$ **do**<br>\n",
    "$\\quad$$\\quad$With probability $\\epsilon$ select a random action $a_{t}$ otherwise select $a_{t} = \\arg\\max_{a}Q(s_t, a; \\theta^{-})$<br>\n",
    "$\\quad$$\\quad$Execute action $a_{t}$ in emulator and observe reward $r_{t+1}$ and new state $s_{t+1}$<br>\n",
    "$\\quad$$\\quad$Store transition $(s_{t},a_{t},r_{t+1},s_{t+1})$ in $\\mathcal{D}$\n",
    "\n",
    "$\\quad$$\\quad$Sample random minibatch of transitions $(s_{i},a_{i},r_{i+1},s_{i+1})$ from $\\mathcal{D}$<br>\n",
    "$\\quad$$\\quad$$y_{i} = r_{i+1} + \\gamma \\max_{a}Q(s_{i+1},a; \\theta^{-})$<br>\n",
    "$\\quad$$\\quad$Perform a gradient descent step on $(y_i − Q(s_{i} , a_{i} ; \\theta))^2$ with respect to $\\theta$<br>\n",
    "$\\quad$$\\quad$Every $C$ steps reset $\\theta^{-}=\\theta$<br>\n",
    "$\\quad$**end for**<br>\n",
    "**end for**\n",
    "```\n",
    "\n",
    "The Deep Q-Learning training algorithm has two phases:\n",
    "\n",
    "1. Sampling: we perform actions and store the observed experience tuples in a replay memory.\n",
    "\n",
    "2. Training: Select a small batch of tuples randomly and learn from this batch using a gradient descent update step.\n",
    "\n",
    "Deep Q-Learning training might suffer from instability, mainly because of combining a non-linear Q-value function (Neural Network) and bootstrapping (when we update targets with existing estimates and not an actual complete return). To help us stabilize the training, we implement two different solutions:\n",
    "\n",
    "1. Experience Replay to make more efficient use of experiences.\n",
    "\n",
    "2. Fixed Q-Target to stabilize the training."
   ]
  },
  {
   "cell_type": "markdown",
   "id": "a28bf734-9a24-4225-a132-a567d2363193",
   "metadata": {},
   "source": [
    "### Experience Replay\n",
    "\n",
    "Experience Replay in Deep Q-Learning has two functions:\n",
    "\n",
    "1. Make more efficient use of the experiences during the training. We use a replay buffer that saves experience samples that we can reuse during the training. This allows the agent to learn from the same experiences multiple times.\n",
    "\n",
    "2. Avoid forgetting previous experiences and reduce the correlation between experiences.\n",
    "\n",
    "    The problem we get if we give sequential samples of experiences to our neural network is that it tends to forget the previous experiences as it gets new experiences. The solution is to create a Replay Buffer that stores experience tuples while interacting with the environment and then sample a small batch of tuples.\n",
    "\n",
    "    By randomly sampling the experiences, we remove correlation in the observation sequences and avoid action values from oscillating or diverging catastrophically."
   ]
  },
  {
   "cell_type": "markdown",
   "id": "e869be0d-92fb-4635-8a50-92fed7bccdb5",
   "metadata": {},
   "source": [
    "### Fixed Q-Target\n",
    "\n",
    "When we want to calculate the TD error (aka the loss), we calculate the difference between the TD target (Q-Target) and the current Q-value (estimation of Q).\n",
    "\n",
    "However, the problem is that we are using the same parameters (weights) for estimating the TD target and the Q-value. Consequently, there is a significant correlation between the TD target and the parameters we are changing.\n",
    "\n",
    "Therefore, at every step of training, both our Q-values and the target values shift. We’re getting closer to our target, but the target is also moving. It’s like chasing a moving target! This can lead to significant oscillation in training.\n",
    "\n",
    "It’s like if you were a cowboy (the Q estimation) and you wanted to catch a cow (the Q-target). Your goal is to get closer (reduce the error).\n",
    "\n",
    "![](images/deep-q3.jpeg)\n",
    "\n",
    "At each time step, you’re trying to approach the cow, which also moves at each time step (because you use the same parameters).\n",
    "\n",
    "![](images/deep-q4.jpeg)\n",
    "\n",
    "![](images/deep-q5.jpeg)\n",
    "\n",
    "Instead, we:\n",
    "\n",
    "* Use a separate network with fixed parameters for estimating the TD Target\n",
    "\n",
    "* Copy the parameters from our Deep Q-Network every $C$ steps to update the target network."
   ]
  },
  {
   "cell_type": "markdown",
   "id": "73c3aef3-484f-4224-9e76-8a0b0ba9e620",
   "metadata": {},
   "source": [
    "## Deep Q-Learning Variants\n",
    "\n",
    "Let’s look at a few variants of the Deep Q-Learning algorithm that can further stabilize and speed up training.\n",
    "\n",
    "### Double DQN\n",
    "\n",
    "Remember how we calculate the TD Target:\n",
    "\n",
    "![](images/TD-1.jpeg)\n",
    "\n",
    "We face a simple problem by calculating the TD target: how are we sure that the best action for the next state is the action with the highest Q-value? We know that the accuracy of Q-values depends on what action we tried and what neighboring states we explored.\n",
    "\n",
    "Consequently, we don’t have enough information about the best action to take at the beginning of the training. Therefore, taking the maximum Q-value (which is noisy) as the best action to take can lead to false positives. If non-optimal actions are regularly given a higher Q value than the optimal best action, the learning will be complicated.\n",
    "\n",
    "The solution is: when we compute the Q target, we use two networks to decouple the action selection from the target Q-value generation. We:\n",
    "\n",
    "* Use our DQN network to select the best action to take for the next state.\n",
    "\n",
    "* Use our Target network to calculate the target Q-value of taking that action at the next state."
   ]
  },
  {
   "cell_type": "markdown",
   "id": "258ef6b3-01c3-4431-b1b3-e0af2854f6bd",
   "metadata": {},
   "source": [
    "### Dueling DQN"
   ]
  },
  {
   "cell_type": "code",
   "execution_count": null,
   "id": "dac0278b-5ba2-4c72-b81a-bc06a3bc49d0",
   "metadata": {},
   "outputs": [],
   "source": []
  }
 ],
 "metadata": {
  "kernelspec": {
   "display_name": "Python 3",
   "language": "python",
   "name": "python3"
  },
  "language_info": {
   "codemirror_mode": {
    "name": "ipython",
    "version": 3
   },
   "file_extension": ".py",
   "mimetype": "text/x-python",
   "name": "python",
   "nbconvert_exporter": "python",
   "pygments_lexer": "ipython3",
   "version": "3.8.3"
  }
 },
 "nbformat": 4,
 "nbformat_minor": 5
}
