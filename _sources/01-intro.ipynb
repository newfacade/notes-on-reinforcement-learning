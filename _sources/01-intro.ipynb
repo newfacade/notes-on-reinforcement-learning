{
 "cells": [
  {
   "cell_type": "markdown",
   "id": "ae6b203c-f139-41aa-b7eb-8107973715d6",
   "metadata": {},
   "source": [
    "# What is Reinforcement Learning?\n",
    "\n",
    "```{tip}\n",
    "To understand Reinforcement Learning, let’s start with the big picture.\n",
    "```"
   ]
  },
  {
   "cell_type": "markdown",
   "id": "14825206-8b1a-48cf-80f6-31620a2ed826",
   "metadata": {},
   "source": [
    "## The big picture\n",
    "\n",
    "The idea behind Reinforcement Learning is that an agent (an AI) will learn from the environment by interacting with it (through trial and error) and receiving rewards (negative or positive) as feedback for performing actions.\n",
    "\n",
    "Learning from interactions with the environment comes from our natural experiences.\n",
    "\n",
    "For instance, imagine putting your little brother in front of a video game he never played, giving him a controller, and leaving him alone.\n",
    "\n",
    "![](./images/intro1.jpeg)\n",
    "\n",
    "Your brother will interact with the environment (the video game) by pressing the right button (action). He got a coin, that’s a +1 reward. It’s positive, he just understood that in this game he must get the coins.\n",
    "\n",
    "![](./images/intro2.jpeg)\n",
    "\n",
    "But then, he presses the right button again and he touches an enemy. He just died, so that’s a -1 reward.\n",
    "\n",
    "![](./images/intro3.jpeg)\n",
    "\n",
    "By interacting with his environment through trial and error, your little brother understands that he needs to get coins in this environment but avoid the enemies. Without any supervision, the child will get better and better at playing the game.\n",
    "\n",
    "That’s how humans and animals learn, through interaction. Reinforcement Learning is just a computational approach of learning from actions."
   ]
  },
  {
   "cell_type": "markdown",
   "id": "e2b36b2a-8eae-4367-8f6a-b5666a9b20cf",
   "metadata": {},
   "source": [
    "## A formal definition\n",
    "\n",
    "We can now make a formal definition:\n",
    "\n",
    "```{note}\n",
    "Reinforcement learning is a framework for solving control tasks (also called decision problems) by building agents that learn from the environment by interacting with it through trial and error and receiving rewards (positive or negative) as unique feedback.\n",
    "```\n",
    "\n",
    "But how does Reinforcement Learning work?"
   ]
  },
  {
   "cell_type": "code",
   "execution_count": null,
   "id": "3e33f1fc-766a-44be-aed3-e09618301b4e",
   "metadata": {},
   "outputs": [],
   "source": []
  }
 ],
 "metadata": {
  "kernelspec": {
   "display_name": "Python 3",
   "language": "python",
   "name": "python3"
  },
  "language_info": {
   "codemirror_mode": {
    "name": "ipython",
    "version": 3
   },
   "file_extension": ".py",
   "mimetype": "text/x-python",
   "name": "python",
   "nbconvert_exporter": "python",
   "pygments_lexer": "ipython3",
   "version": "3.8.3"
  }
 },
 "nbformat": 4,
 "nbformat_minor": 5
}
