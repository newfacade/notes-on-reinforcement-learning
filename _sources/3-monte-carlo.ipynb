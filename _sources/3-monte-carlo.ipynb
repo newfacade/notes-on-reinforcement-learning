{
 "cells": [
  {
   "cell_type": "markdown",
   "id": "35ae337a-376b-4dd1-b121-959cb7d8fb4e",
   "metadata": {},
   "source": [
    "# Monte Carlo Methods\n",
    "\n",
    "There are two steps in every iteration of the policy iteration algorithm: policy evaluation and policy improvement.\n",
    "\n",
    "It must be noted that the action values lies in the core of these two steps: \n",
    "\n",
    "* policy evaluation aims to compute the state values given the model.\n",
    "\n",
    "* policy improvement first uses state values to get action values, then greedy using action values:\n",
    "\n",
    "$$\\pi_{k+1}(s,a) = \\begin{cases}\n",
    "1, &\\text{If }a=\\underset{a\\in\\mathcal{A}}{\\text{argmax}}\\ q_{\\pi_{k}}(s,a)\\\\\n",
    "0, &\\text{Otherwise}\n",
    "\\end{cases}$$\n",
    "\n",
    "In fact, we can calculte the action values directly using the Monte Carlo methods, it is a model-free approach using the definition of action value:\n",
    "\n",
    "$$\n",
    "\\begin{aligned}\n",
    "q_{\\pi_{k}}(s, a) &= \\mathbb{E}[G_{t}|S_{t}=s,A_{t}=a_{t}]\\\\\n",
    "&= \\mathbb{E}[R_{t+1} + \\gamma R_{t+2} + \\gamma^{2} R_{t+3} + \\dots|S_{t}=s,A_{t}=a_{t}]\n",
    "\\end{aligned}\n",
    "$$\n",
    "\n",
    "To do that, starting from $(s, a)$, the agent can iteract with the environment by following policy $\\pi_{k}$ and then obtain a certain number of episodes. Suppose there are $n$ episodes and that the return of the $i$th episode is $g_{\\pi_{k}}^{(i)}(s, a)$, then:\n",
    "\n",
    "$$ q_{\\pi_{k}}(s, a) = \\mathbb{E}[G_{t}|S_{t}=s,A_{t}=a_{t}] \\approx \\frac{1}{n}\\sum_{i=1}^{n}g_{\\pi_{k}}^{(i)}(s, a)$$"
   ]
  },
  {
   "cell_type": "code",
   "execution_count": null,
   "id": "cd437345-6c85-4c03-b339-1dd18dd02eb5",
   "metadata": {},
   "outputs": [],
   "source": []
  }
 ],
 "metadata": {
  "kernelspec": {
   "display_name": "Python 3",
   "language": "python",
   "name": "python3"
  },
  "language_info": {
   "codemirror_mode": {
    "name": "ipython",
    "version": 3
   },
   "file_extension": ".py",
   "mimetype": "text/x-python",
   "name": "python",
   "nbconvert_exporter": "python",
   "pygments_lexer": "ipython3",
   "version": "3.8.3"
  }
 },
 "nbformat": 4,
 "nbformat_minor": 5
}