{
 "cells": [
  {
   "cell_type": "markdown",
   "id": "378dfe20-98a6-4c69-b22f-aa8d481c1b09",
   "metadata": {},
   "source": [
    "# Policy Gradient Methods\n",
    "\n",
    "Policies can be represented by parameterized functions denoted as $\\pi(a|s,\\theta)$, Optimal policies can be obtained by optimizing a scalar metric $J(\\theta)$ via gradient ascent:\n",
    "\n",
    "$$\\theta_{t+1} = \\theta_{t} + \\alpha\\nabla_{\\theta}J(\\theta_{t})$$\n",
    "\n",
    "One choice of $J(\\theta)$ is the average state value:\n",
    "\n",
    "$$J(\\theta) = \\mathbb{E}_{S}[v_{\\pi}(S)] = \\mathbb{E}_{S}\\left[\\sum_{a}\\pi(a|s,\\theta)q_{\\pi}(s, a)\\right]$$"
   ]
  },
  {
   "cell_type": "markdown",
   "id": "7b6705a9-8af6-4be4-8e83-7b4f90e37ae0",
   "metadata": {},
   "source": [
    "## Gradient of the metric\n",
    "\n",
    "One step gradient ascent:\n",
    "\n",
    "$$\\theta_{t+1} = \\theta_{t} + \\alpha\\nabla_{\\theta}v_{\\pi}(s) = \\theta_{t} + \\alpha\\nabla_{\\theta}\\left(\\sum_{a}\\pi(a|s,\\theta)q_{\\pi}(s, a)\\right) = \\theta_{t} + \\alpha\\sum_{a}\\nabla_{\\theta}\\left(\\pi(a|s,\\theta)q_{\\pi}(s, a)\\right)$$\n",
    "\n",
    "To simplify calculation, we pretend $q_{\\pi}(s,a)$ does not depend on $\\theta$:\n",
    "\n",
    "$$\n",
    "\\begin{aligned}\n",
    "\\nabla_{\\theta}(\\pi(a|s,\\theta)q_{\\pi}(s, a)) &= (\\nabla_{\\theta}\\pi(a|s,\\theta))q_{\\pi}(s,a)\\\\\n",
    "&=\\pi(a|s,\\theta)(\\nabla_{\\theta}\\ln\\pi(a|s,\\theta))q_{\\pi}(s,a)\n",
    "\\end{aligned}\n",
    "$$\n",
    "\n",
    "$\\pi(a|s,\\theta)$ is the distribution, now gradient ascent:\n",
    "\n",
    "$$\\theta_{t+1} = \\theta_{t} + \\alpha\\mathbb{E}_{A}[(\\nabla_{\\theta}\\ln\\pi(A|s,\\theta))q_{\\pi}(s,A)]$$"
   ]
  },
  {
   "cell_type": "markdown",
   "id": "1ef3669f-a99e-45ab-aa7b-16db7dd4c9f9",
   "metadata": {},
   "source": [
    "## Reinforce\n",
    "\n",
    "$$\\theta_{t+1} = \\theta_{t} + \\alpha(\\nabla_{\\theta}\\ln\\pi(a_{t}|s_{t},\\theta_{t}))q_{t}(s_{t},a_{t})$$\n",
    "\n",
    "where $q_{t}(s_{t},a_{t})$ is obtained by the Monte-Carlo estimation."
   ]
  },
  {
   "cell_type": "code",
   "execution_count": null,
   "id": "119deea4-80c3-4710-a68d-c78cef81338f",
   "metadata": {},
   "outputs": [],
   "source": []
  }
 ],
 "metadata": {
  "kernelspec": {
   "display_name": "Python 3",
   "language": "python",
   "name": "python3"
  },
  "language_info": {
   "codemirror_mode": {
    "name": "ipython",
    "version": 3
   },
   "file_extension": ".py",
   "mimetype": "text/x-python",
   "name": "python",
   "nbconvert_exporter": "python",
   "pygments_lexer": "ipython3",
   "version": "3.8.3"
  }
 },
 "nbformat": 4,
 "nbformat_minor": 5
}
